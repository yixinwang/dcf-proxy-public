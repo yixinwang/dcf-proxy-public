{
 "cells": [
  {
   "cell_type": "code",
   "execution_count": 1,
   "metadata": {},
   "outputs": [],
   "source": [
    "import numpy.random as npr\n",
    "import statsmodels.api as sm \n",
    "import scipy \n",
    "import numpy as np\n",
    "\n",
    "from sklearn import linear_model\n",
    "from sklearn.decomposition import PCA\n",
    "from sklearn.datasets import make_spd_matrix\n",
    "from scipy import stats\n",
    "import matplotlib.pyplot as plt\n",
    "\n",
    "from statsmodels.stats.outliers_influence import variance_inflation_factor\n",
    "\n",
    "\n",
    "\n",
    "stats.chisqprob = lambda chisq, df: stats.chi2.sf(chisq, df)\n"
   ]
  },
  {
   "cell_type": "code",
   "execution_count": 2,
   "metadata": {},
   "outputs": [],
   "source": [
    "# import time\n",
    "# timenowseed = int(time.time())\n",
    "# npr.seed(timenowseed)\n",
    "# print(timenowseed)\n",
    "npr.seed(1534727263)"
   ]
  },
  {
   "cell_type": "code",
   "execution_count": 3,
   "metadata": {},
   "outputs": [],
   "source": [
    "n = 10000 # number of data points\n",
    "d = 3 # number of causes (=2) + number of confounders (=1)"
   ]
  },
  {
   "cell_type": "markdown",
   "metadata": {},
   "source": [
    "# A simulated dataset"
   ]
  },
  {
   "cell_type": "markdown",
   "metadata": {},
   "source": [
    "## simulate correlated causes"
   ]
  },
  {
   "cell_type": "code",
   "execution_count": 4,
   "metadata": {},
   "outputs": [],
   "source": [
    "def gen_normalU(n,d,Ucoef):\n",
    "    U = npr.normal(size=(n,1))\n",
    "    theta = npr.uniform(size=(1,d))\n",
    "    Xmean = U.dot(theta)\n",
    "    X = Xmean + npr.normal(np.zeros_like(Xmean))\n",
    "#     np.corrcoef(X.T)\n",
    "    # coef = np.array([0.2, 1.0, 0.9])\n",
    "    coef = npr.uniform(size=d)\n",
    "    assert len(coef) == d\n",
    "    intcpt = npr.uniform(size=1)\n",
    "    y = intcpt+coef.dot(X.T) + Ucoef*U[:,0] +npr.normal(size=n)\n",
    "    return X, y, coef, intcpt\n",
    "\n",
    "def gen_uniformU(n,d,Ucoef):\n",
    "    U = npr.uniform(size=(n,1))\n",
    "    theta = npr.uniform(size=(1,d))\n",
    "    Xmean = U.dot(theta)\n",
    "    X = Xmean + npr.normal(np.zeros_like(Xmean))\n",
    "#     np.corrcoef(X.T)\n",
    "    # coef = np.array([0.2, 1.0, 0.9])\n",
    "    coef = npr.uniform(size=d)\n",
    "    assert len(coef) == d\n",
    "    intcpt = npr.uniform(size=1)\n",
    "    y = intcpt+coef.dot(X.T) + Ucoef*U[:,0] +npr.normal(size=n)\n",
    "    return X, y, coef, intcpt"
   ]
  },
  {
   "cell_type": "code",
   "execution_count": 5,
   "metadata": {},
   "outputs": [],
   "source": [
    "def dcf(X, y):\n",
    "    pca = PCA(n_components=1)\n",
    "    pca.fit(X)\n",
    "    Zhat = pca.transform(X)\n",
    "    x2 = sm.add_constant(np.column_stack([X, Zhat]))\n",
    "    models = sm.OLS(y,x2)\n",
    "    result = models.fit()\n",
    "#     print(result.summary())\n",
    "\n",
    "#     variables = result.model.exog\n",
    "#     vif = [variance_inflation_factor(variables, i) for i in range(variables.shape[1])]\n",
    "#     print(vif) \n",
    "    \n",
    "    mse = ((coef-result.params[1:(d+1)])**2).sum()\n",
    "#     print(coef, result.params[1:(d+1)])\n",
    "#     print(mse)\n",
    "    return mse"
   ]
  },
  {
   "cell_type": "code",
   "execution_count": 6,
   "metadata": {},
   "outputs": [],
   "source": [
    "def naive(X, y):\n",
    "    x2 = sm.add_constant(X)\n",
    "    models = sm.OLS(y,x2)\n",
    "    result = models.fit()\n",
    "#     print(result.summary())\n",
    "    mse = ((coef-result.params[1:(d+1)])**2).sum()\n",
    "#     print(mse)\n",
    "#     print(result.params)\n",
    "#     print(coef, result.params[1:(d+1)])\n",
    "    return mse\n",
    "    "
   ]
  },
  {
   "cell_type": "code",
   "execution_count": 7,
   "metadata": {},
   "outputs": [],
   "source": [
    "def plot_dcf_naive(data_a, data_b, figname):\n",
    "    ticks = ['0', '1', '2', '3', '4', '5']\n",
    "\n",
    "    def set_box_color(bp, color):\n",
    "        plt.setp(bp['boxes'], color=color)\n",
    "        plt.setp(bp['whiskers'], color=color)\n",
    "        plt.setp(bp['caps'], color=color)\n",
    "        plt.setp(bp['medians'], color=color)\n",
    "\n",
    "    plt.figure(figsize=(4,3))\n",
    "\n",
    "    bpl = plt.boxplot(data_a, positions=np.array(range(len(data_a)))*2.0-0.4, sym='', widths=0.6)\n",
    "    bpr = plt.boxplot(data_b, positions=np.array(range(len(data_b)))*2.0+0.4, sym='', widths=0.6)\n",
    "    set_box_color(bpl, '#D7191C') # colors are from http://colorbrewer2.org/\n",
    "    set_box_color(bpr, '#2C7BB6')\n",
    "\n",
    "    # draw temporary red and blue lines and use them to create a legend\n",
    "    plt.plot([], c='#D7191C', label='Deconfounder (PPCA)')\n",
    "    plt.plot([], c='#2C7BB6', label='Naive regression')\n",
    "    plt.legend()\n",
    "\n",
    "    plt.xticks(range(0, len(ticks) * 2, 2), ticks)\n",
    "    plt.xlim(-2, len(ticks)*2)\n",
    "    plt.xlabel('confounding strength')\n",
    "    plt.ylabel('MSE')\n",
    "    # plt.ylim(0, 8)\n",
    "    plt.tight_layout()\n",
    "    plt.savefig(figname)"
   ]
  },
  {
   "cell_type": "code",
   "execution_count": 8,
   "metadata": {},
   "outputs": [
    {
     "name": "stdout",
     "output_type": "stream",
     "text": [
      "0\n",
      "conf strength 0 prob(DCFmse < NAIVEmse) 0.0 avgDCFmse 0.17980596694910017 avgNAIVEmse 0.0002467213623805958\n",
      "1\n",
      "conf strength 1 prob(DCFmse < NAIVEmse) 0.98 avgDCFmse 0.04341848794845394 avgNAIVEmse 0.22326475624576816\n",
      "2\n",
      "conf strength 2 prob(DCFmse < NAIVEmse) 0.98 avgDCFmse 0.026540430563430042 avgNAIVEmse 0.9165752132785062\n",
      "3\n",
      "conf strength 3 prob(DCFmse < NAIVEmse) 1.0 avgDCFmse 0.13413150072466581 avgNAIVEmse 2.066279781802321\n",
      "4\n",
      "conf strength 4 prob(DCFmse < NAIVEmse) 1.0 avgDCFmse 0.34230449726061424 avgNAIVEmse 3.673362041419821\n",
      "5\n",
      "conf strength 5 prob(DCFmse < NAIVEmse) 1.0 avgDCFmse 0.7222902751912659 avgNAIVEmse 5.728371914063171\n"
     ]
    },
    {
     "data": {
      "image/png": "[encoded data removed]",
      "text/plain": [
       "<Figure size 288x216 with 1 Axes>"
      ]
     },
     "metadata": {
      "needs_background": "light"
     },
     "output_type": "display_data"
    }
   ],
   "source": [
    "dcfs = []\n",
    "naives = []\n",
    "for Ucoef in [0,1,2,3,4,5]:\n",
    "    print(Ucoef)\n",
    "    dcferrs = []\n",
    "    naiveerrs = []\n",
    "    for _ in range(100):\n",
    "        X, y, coef, intcpt = gen_normalU(n,d,Ucoef)\n",
    "        dcferr = dcf(X, y)\n",
    "        naiveerr = naive(X, y)\n",
    "        dcferrs.append(dcferr)\n",
    "        naiveerrs.append(naiveerr)\n",
    "#         print(dcferr, naiveerr, dcferr<naiveerr)\n",
    "    print(\"conf strength\", Ucoef, \\\n",
    "          \"prob(DCFmse < NAIVEmse)\", (np.array(dcferrs) < np.array(naiveerrs)).mean(), \\\n",
    "          \"avgDCFmse\", np.array(dcferrs).mean(), \\\n",
    "          \"avgNAIVEmse\", np.array(naiveerrs).mean())\n",
    "    dcfs.append(dcferrs)\n",
    "    naives.append(naiveerrs)\n",
    "plot_dcf_naive(dcfs, naives, 'SEM_linear_simulation_normalU.pdf')"
   ]
  },
  {
   "cell_type": "code",
   "execution_count": 9,
   "metadata": {},
   "outputs": [
    {
     "name": "stdout",
     "output_type": "stream",
     "text": [
      "0\n",
      "conf strength 0 prob(DCFmse < NAIVEmse) 0.01 avgDCFmse 0.0656878272566584 avgNAIVEmse 0.00032882129273264046\n",
      "1\n",
      "conf strength 1 prob(DCFmse < NAIVEmse) 0.29 avgDCFmse 0.04197198125806542 avgNAIVEmse 0.005695082095852718\n",
      "2\n",
      "conf strength 2 prob(DCFmse < NAIVEmse) 0.5 avgDCFmse 0.03750672778445499 avgNAIVEmse 0.02679776928081303\n",
      "3\n",
      "conf strength 3 prob(DCFmse < NAIVEmse) 0.46 avgDCFmse 0.07748492797415384 avgNAIVEmse 0.05515537515460771\n",
      "4\n",
      "conf strength 4 prob(DCFmse < NAIVEmse) 0.26 avgDCFmse 0.1610477774410255 avgNAIVEmse 0.09077325110412503\n",
      "5\n",
      "conf strength 5 prob(DCFmse < NAIVEmse) 0.27 avgDCFmse 0.2629506856484827 avgNAIVEmse 0.15068366146202913\n"
     ]
    },
    {
     "data": {
      "image/png": "[encoded data removed]",
      "text/plain": [
       "<Figure size 288x216 with 1 Axes>"
      ]
     },
     "metadata": {
      "needs_background": "light"
     },
     "output_type": "display_data"
    }
   ],
   "source": [
    "dcfs = []\n",
    "naives = []\n",
    "for Ucoef in [0,1,2,3,4,5]:\n",
    "    print(Ucoef)\n",
    "    dcferrs = []\n",
    "    naiveerrs = []\n",
    "    for _ in range(100):\n",
    "        X, y, coef, intcpt = gen_uniformU(n,d,Ucoef)\n",
    "        dcferr = dcf(X, y)\n",
    "        naiveerr = naive(X, y)\n",
    "        dcferrs.append(dcferr)\n",
    "        naiveerrs.append(naiveerr)\n",
    "#         print(dcferr, naiveerr, dcferr<naiveerr)\n",
    "    print(\"conf strength\", Ucoef, \\\n",
    "          \"prob(DCFmse < NAIVEmse)\", (np.array(dcferrs) < np.array(naiveerrs)).mean(), \\\n",
    "          \"avgDCFmse\", np.array(dcferrs).mean(), \\\n",
    "          \"avgNAIVEmse\", np.array(naiveerrs).mean())\n",
    "    dcfs.append(dcferrs)\n",
    "    naives.append(naiveerrs)\n",
    "plot_dcf_naive(dcfs, naives, 'SEM_linear_simulation_uniformU.pdf')"
   ]
  },
  {
   "cell_type": "code",
   "execution_count": 10,
   "metadata": {},
   "outputs": [],
   "source": [
    "# # evaluate predictability of Zhat given X\n",
    "# pca = PCA(n_components=1)\n",
    "# pca.fit(X)\n",
    "# Zhat = pca.transform(X)\n",
    "# x2 = sm.add_constant(X)\n",
    "# models = sm.OLS(Zhat,x2)\n",
    "# result = models.fit()"
   ]
  },
  {
   "cell_type": "code",
   "execution_count": 11,
   "metadata": {},
   "outputs": [],
   "source": [
    "# print(result.summary())"
   ]
  },
  {
   "cell_type": "code",
   "execution_count": 12,
   "metadata": {},
   "outputs": [],
   "source": [
    "# print((result.predict(x2) - Zhat.T).max())"
   ]
  },
  {
   "cell_type": "code",
   "execution_count": null,
   "metadata": {},
   "outputs": [],
   "source": []
  }
 ],
 "metadata": {
  "kernelspec": {
   "display_name": "Python 3",
   "language": "python",
   "name": "python3"
  },
  "language_info": {
   "codemirror_mode": {
    "name": "ipython",
    "version": 3
   },
   "file_extension": ".py",
   "mimetype": "text/x-python",
   "name": "python",
   "nbconvert_exporter": "python",
   "pygments_lexer": "ipython3",
   "version": "3.8.5"
  }
 },
 "nbformat": 4,
 "nbformat_minor": 2
}
