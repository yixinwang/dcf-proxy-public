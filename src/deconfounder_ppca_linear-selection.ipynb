{
 "cells": [
  {
   "cell_type": "code",
   "execution_count": 1,
   "metadata": {},
   "outputs": [],
   "source": [
    "import numpy.random as npr\n",
    "import statsmodels.api as sm \n",
    "import scipy \n",
    "import numpy as np\n",
    "\n",
    "from sklearn import linear_model\n",
    "from sklearn.decomposition import PCA\n",
    "from sklearn.datasets import make_spd_matrix\n",
    "from scipy import stats\n",
    "import matplotlib.pyplot as plt\n",
    "\n",
    "stats.chisqprob = lambda chisq, df: stats.chi2.sf(chisq, df)\n"
   ]
  },
  {
   "cell_type": "code",
   "execution_count": 2,
   "metadata": {},
   "outputs": [],
   "source": [
    "# import time\n",
    "# timenowseed = int(time.time())\n",
    "# npr.seed(timenowseed)\n",
    "# print(timenowseed)\n",
    "npr.seed(1534727263)"
   ]
  },
  {
   "cell_type": "code",
   "execution_count": 3,
   "metadata": {},
   "outputs": [],
   "source": [
    "n = 10000 # number of data points\n",
    "d = 3 # number of causes (=2) + number of confounders (=1)"
   ]
  },
  {
   "cell_type": "markdown",
   "metadata": {},
   "source": [
    "# A simulated dataset"
   ]
  },
  {
   "cell_type": "markdown",
   "metadata": {},
   "source": [
    "## simulate correlated causes"
   ]
  },
  {
   "cell_type": "code",
   "execution_count": 31,
   "metadata": {},
   "outputs": [],
   "source": [
    "def gen_normalU(n,d,Ucoef):\n",
    "    U = 0.5*npr.normal(size=(n,1))\n",
    "    theta = npr.uniform(size=(1,d))\n",
    "    Xmean = U.dot(theta)\n",
    "    X = Xmean + npr.normal(np.zeros_like(Xmean))\n",
    "#     np.corrcoef(X.T)\n",
    "    # coef = np.array([0.2, 1.0, 0.9])\n",
    "    coef = npr.uniform(size=d)\n",
    "    assert len(coef) == d\n",
    "    intcpt = npr.uniform(size=1)\n",
    "    y = intcpt+coef.dot(X.T) + Ucoef*U[:,0] +npr.normal(size=n)\n",
    "    return X, y, U, coef, intcpt\n",
    "\n",
    "def gen_uniformU(n,d,Ucoef):\n",
    "    U = 0.5* npr.uniform(size=(n,1))\n",
    "    theta = npr.uniform(size=(1,d))\n",
    "    Xmean = U.dot(theta)\n",
    "    X = Xmean + npr.normal(np.zeros_like(Xmean))\n",
    "#     np.corrcoef(X.T)\n",
    "    # coef = np.array([0.2, 1.0, 0.9])\n",
    "    coef = npr.uniform(size=d)\n",
    "    assert len(coef) == d\n",
    "    intcpt = npr.uniform(size=1)\n",
    "    y = intcpt+coef.dot(X.T) + Ucoef*U[:,0] +npr.normal(size=n)\n",
    "    return X, y, U, coef, intcpt"
   ]
  },
  {
   "cell_type": "code",
   "execution_count": 32,
   "metadata": {},
   "outputs": [],
   "source": [
    "def dcf(X, y):\n",
    "    pca = PCA(n_components=1)\n",
    "    pca.fit(X)\n",
    "    Zhat = pca.transform(X)\n",
    "    x2 = sm.add_constant(np.column_stack([X, Zhat]))\n",
    "    models = sm.OLS(y,x2)\n",
    "    result = models.fit()\n",
    "#     print(result.summary())\n",
    "    mse = ((coef-result.params[1:(d+1)])**2).sum()\n",
    "#     print(coef, result.params[1:(d+1)])\n",
    "#     print(mse)\n",
    "    return mse"
   ]
  },
  {
   "cell_type": "code",
   "execution_count": 33,
   "metadata": {},
   "outputs": [],
   "source": [
    "def naive(X, y):\n",
    "    x2 = sm.add_constant(X)\n",
    "    models = sm.OLS(y,x2)\n",
    "    result = models.fit()\n",
    "#     print(result.summary())\n",
    "    mse = ((coef-result.params[1:(d+1)])**2).sum()\n",
    "#     print(mse)\n",
    "#     print(result.params)\n",
    "#     print(coef, result.params[1:(d+1)])\n",
    "    return mse\n",
    "    "
   ]
  },
  {
   "cell_type": "code",
   "execution_count": 34,
   "metadata": {},
   "outputs": [],
   "source": [
    "def plot_dcf_naive(data_a, data_b, figname):\n",
    "    ticks = ['0', '1', '2', '3', '4', '5']\n",
    "\n",
    "    def set_box_color(bp, color):\n",
    "        plt.setp(bp['boxes'], color=color)\n",
    "        plt.setp(bp['whiskers'], color=color)\n",
    "        plt.setp(bp['caps'], color=color)\n",
    "        plt.setp(bp['medians'], color=color)\n",
    "\n",
    "    plt.figure(figsize=(4,3))\n",
    "\n",
    "    bpl = plt.boxplot(data_a, positions=np.array(range(len(data_a)))*2.0-0.4, sym='', widths=0.6)\n",
    "    bpr = plt.boxplot(data_b, positions=np.array(range(len(data_b)))*2.0+0.4, sym='', widths=0.6)\n",
    "    set_box_color(bpl, '#D7191C') # colors are from http://colorbrewer2.org/\n",
    "    set_box_color(bpr, '#2C7BB6')\n",
    "\n",
    "    # draw temporary red and blue lines and use them to create a legend\n",
    "    plt.plot([], c='#D7191C', label='Deconfounder (PPCA)')\n",
    "    plt.plot([], c='#2C7BB6', label='Naive regression')\n",
    "    plt.legend()\n",
    "\n",
    "    plt.xticks(range(0, len(ticks) * 2, 2), ticks)\n",
    "    plt.xlim(-2, len(ticks)*2)\n",
    "    # plt.ylim(0, 8)\n",
    "    plt.xlabel('confounding strength')\n",
    "    plt.ylabel('MSE')\n",
    "    plt.tight_layout()\n",
    "    plt.savefig(figname)"
   ]
  },
  {
   "cell_type": "code",
   "execution_count": 35,
   "metadata": {},
   "outputs": [
    {
     "name": "stdout",
     "output_type": "stream",
     "text": [
      "0\n",
      "conf strength 0 prob(DCFmse < NAIVEmse) 0.0 avgDCFmse 0.16529253693972357 avgNAIVEmse 0.00028142966918713483\n",
      "1\n",
      "conf strength 1 prob(DCFmse < NAIVEmse) 0.47 avgDCFmse 0.10258859363807585 avgNAIVEmse 0.06563238874444735\n",
      "2\n",
      "conf strength 2 prob(DCFmse < NAIVEmse) 0.95 avgDCFmse 0.0400777560149687 avgNAIVEmse 0.27350538950864317\n",
      "3\n",
      "conf strength 3 prob(DCFmse < NAIVEmse) 0.98 avgDCFmse 0.03269390719166883 avgNAIVEmse 0.5848764097204977\n",
      "4\n",
      "conf strength 4 prob(DCFmse < NAIVEmse) 0.99 avgDCFmse 0.04672297296746103 avgNAIVEmse 1.0247754559917746\n",
      "5\n",
      "conf strength 5 prob(DCFmse < NAIVEmse) 1.0 avgDCFmse 0.11585091424509576 avgNAIVEmse 1.610595555756029\n"
     ]
    },
    {
     "data": {
      "image/png": "[encoded data removed]",
      "text/plain": [
       "<Figure size 288x216 with 1 Axes>"
      ]
     },
     "metadata": {
      "needs_background": "light"
     },
     "output_type": "display_data"
    }
   ],
   "source": [
    "dcfs = []\n",
    "naives = []\n",
    "for Ucoef in [0,1,2,3,4,5]:\n",
    "    print(Ucoef)\n",
    "    dcferrs = []\n",
    "    naiveerrs = []\n",
    "    for _ in range(100):\n",
    "        X, y, U, coef, intcpt = gen_normalU(n,d,Ucoef)\n",
    "        select = ((U > np.quantile(U, 0.0)).T[0]) | ((U < np.quantile(U, 1.0)).T[0])\n",
    "        dcferr = dcf(X[select], y[select])\n",
    "        naiveerr = naive(X[select], y[select])\n",
    "        dcferrs.append(dcferr)\n",
    "        naiveerrs.append(naiveerr)\n",
    "#         print(dcferr, naiveerr, dcferr<naiveerr)\n",
    "    print(\"conf strength\", Ucoef, \\\n",
    "          \"prob(DCFmse < NAIVEmse)\", (np.array(dcferrs) < np.array(naiveerrs)).mean(), \\\n",
    "          \"avgDCFmse\", np.array(dcferrs).mean(), \\\n",
    "          \"avgNAIVEmse\", np.array(naiveerrs).mean())\n",
    "    dcfs.append(dcferrs)\n",
    "    naives.append(naiveerrs)\n",
    "plot_dcf_naive(dcfs, naives, 'SEM_linear_simulation_normalU_selectionbiased.pdf')"
   ]
  },
  {
   "cell_type": "code",
   "execution_count": 36,
   "metadata": {},
   "outputs": [
    {
     "name": "stdout",
     "output_type": "stream",
     "text": [
      "0\n",
      "conf strength 0 prob(DCFmse < NAIVEmse) 0.02 avgDCFmse 0.09486742869512349 avgNAIVEmse 0.00026722258358173845\n",
      "1\n",
      "conf strength 1 prob(DCFmse < NAIVEmse) 0.02 avgDCFmse 0.07909279808364288 avgNAIVEmse 0.0010506079938365157\n",
      "2\n",
      "conf strength 2 prob(DCFmse < NAIVEmse) 0.19 avgDCFmse 0.05360757222804443 avgNAIVEmse 0.00349459992198717\n",
      "3\n",
      "conf strength 3 prob(DCFmse < NAIVEmse) 0.2 avgDCFmse 0.045355210064613495 avgNAIVEmse 0.006840621658824966\n",
      "4\n",
      "conf strength 4 prob(DCFmse < NAIVEmse) 0.46 avgDCFmse 0.0332425301778807 avgNAIVEmse 0.014066205687543788\n",
      "5\n",
      "conf strength 5 prob(DCFmse < NAIVEmse) 0.42 avgDCFmse 0.03606174841517114 avgNAIVEmse 0.022022146145612254\n"
     ]
    },
    {
     "data": {
      "image/png": "[encoded data removed]",
      "text/plain": [
       "<Figure size 288x216 with 1 Axes>"
      ]
     },
     "metadata": {
      "needs_background": "light"
     },
     "output_type": "display_data"
    }
   ],
   "source": [
    "dcfs = []\n",
    "naives = []\n",
    "for Ucoef in [0,1,2,3,4,5]:\n",
    "    print(Ucoef)\n",
    "    dcferrs = []\n",
    "    naiveerrs = []\n",
    "    for _ in range(100):\n",
    "        X, y, U, coef, intcpt = gen_uniformU(n,d,Ucoef)\n",
    "        select = ((U > np.quantile(U, 0.0)).T[0]) | ((U < np.quantile(U, 1.0)).T[0])\n",
    "        dcferr = dcf(X[select], y[select])\n",
    "        naiveerr = naive(X[select], y[select])\n",
    "        dcferrs.append(dcferr)\n",
    "        naiveerrs.append(naiveerr)\n",
    "#         print(dcferr, naiveerr, dcferr<naiveerr)\n",
    "    print(\"conf strength\", Ucoef, \\\n",
    "          \"prob(DCFmse < NAIVEmse)\", (np.array(dcferrs) < np.array(naiveerrs)).mean(), \\\n",
    "          \"avgDCFmse\", np.array(dcferrs).mean(), \\\n",
    "          \"avgNAIVEmse\", np.array(naiveerrs).mean())\n",
    "    dcfs.append(dcferrs)\n",
    "    naives.append(naiveerrs)\n",
    "plot_dcf_naive(dcfs, naives, 'SEM_linear_simulation_uniformU_selectionbiased.pdf')"
   ]
  },
  {
   "cell_type": "code",
   "execution_count": 37,
   "metadata": {},
   "outputs": [],
   "source": [
    "# # evaluate predictability of Zhat given X\n",
    "# pca = PCA(n_components=1)\n",
    "# pca.fit(X)\n",
    "# Zhat = pca.transform(X)\n",
    "# x2 = sm.add_constant(X)\n",
    "# models = sm.OLS(Zhat,x2)\n",
    "# result = models.fit()"
   ]
  },
  {
   "cell_type": "code",
   "execution_count": 11,
   "metadata": {},
   "outputs": [],
   "source": [
    "# print(result.summary())"
   ]
  },
  {
   "cell_type": "code",
   "execution_count": 12,
   "metadata": {},
   "outputs": [],
   "source": [
    "# print((result.predict(x2) - Zhat.T).max())"
   ]
  },
  {
   "cell_type": "code",
   "execution_count": null,
   "metadata": {},
   "outputs": [],
   "source": []
  }
 ],
 "metadata": {
  "kernelspec": {
   "display_name": "Python 3",
   "language": "python",
   "name": "python3"
  },
  "language_info": {
   "codemirror_mode": {
    "name": "ipython",
    "version": 3
   },
   "file_extension": ".py",
   "mimetype": "text/x-python",
   "name": "python",
   "nbconvert_exporter": "python",
   "pygments_lexer": "ipython3",
   "version": "3.8.5"
  }
 },
 "nbformat": 4,
 "nbformat_minor": 2
}
